{
 "cells": [
  {
   "cell_type": "markdown",
   "metadata": {},
   "source": [
    "# Reproducibility Project Draft for CS598 DL4H in Spring 2023\n",
    "# Notebook accompanying project draft submission\n",
    "## Author: Martin Tomis\n",
    "## Author email: mtomis2@illinois.edu\n",
    "## Group ID: 69\n",
    "## Paper ID: 149\n"
   ]
  },
  {
   "cell_type": "markdown",
   "metadata": {},
   "source": [
    "This is a jupyter notebook with my attempt to replicate the model descibed in paper \"Explainable Automated Coding of Clinical Notes using Hierarchical Label-wise Attention Networks and Label Embedding Initialisation by Hang et al.\" The paper introduces a novel solution of a crucial problem - predicting medical codes from Electronic Health Records (EHR).\n",
    "\n",
    "The combination of attention and of leveraging the hierarchy of medical codes leads the authors to describing the solution as ”Hierarchical Label-wise Attention Networks” (HLAN). The authors also use the initialisation of embeddings which captures the correlation among the labels.\n",
    "\n",
    "The key components of the HLAN model are:\n",
    "- Hierarchical: model leverages the structure of a medical code, linking individual words to sentences and sentences to the document.\n",
    "- Label-wise: essentially each code has its own set of parameters.\n",
    "- Attention: attention mechanism is state-of-the-art for many NLP tasks.\n",
    "- Network: these components are connected within a framework of deep-learning model layers.\n",
    "\n",
    "The rest of this notebook describes steps following the preparation of the immediate input files. Preparation of the raw dataset is described in a separate jupyter notebook in this repo."
   ]
  },
  {
   "cell_type": "code",
   "execution_count": 1,
   "metadata": {},
   "outputs": [],
   "source": [
    "import sys\n",
    "\n",
    "import numpy as np\n",
    "import pandas as pd\n",
    "\n",
    "from collections import Counter, defaultdict\n",
    "import csv\n",
    "import os\n",
    "import math\n",
    "import operator\n",
    "import torch\n",
    "import torch.nn as nn\n",
    "import torch.nn.functional as F\n",
    "from sklearn.metrics import *\n",
    "\n",
    "from time import *\n",
    "\n"
   ]
  },
  {
   "cell_type": "markdown",
   "metadata": {},
   "source": [
    "### Loading inputs\n",
    "This step assumes that data was pre-processed using the instructions in https://github.com/acadTags/Explainable-Automated-Medical-Coding/tree/master/datasets and most importantly, instructions and code provided in https://github.com/jamesmullenbach/caml-mimic."
   ]
  },
  {
   "cell_type": "markdown",
   "metadata": {},
   "source": [
    "Likely due to memory issues, the final model cannot be run on the full dataset."
   ]
  },
  {
   "cell_type": "code",
   "execution_count": 2,
   "metadata": {},
   "outputs": [],
   "source": [
    "notes_train = pd.read_csv(os.path.join(os.getcwd(), \"Data/mimic-iii/train_50.csv\"))\n",
    "notes_train = notes_train.sample(frac=0.25)"
   ]
  },
  {
   "cell_type": "code",
   "execution_count": 3,
   "metadata": {},
   "outputs": [],
   "source": [
    "notes_test = pd.read_csv(os.path.join(os.getcwd(), \"Data/mimic-iii/test_50.csv\"))\n",
    "notes_test = notes_test.sample(frac=0.25)"
   ]
  },
  {
   "cell_type": "code",
   "execution_count": 4,
   "metadata": {},
   "outputs": [],
   "source": [
    "embeddings = pd.read_csv(os.path.join(os.getcwd(), \"Data/mimic-iii/processed_full.embed\"), delimiter=' ', header = None)\n"
   ]
  },
  {
   "cell_type": "code",
   "execution_count": 5,
   "metadata": {},
   "outputs": [
    {
     "data": {
      "text/html": [
       "<div>\n",
       "<style scoped>\n",
       "    .dataframe tbody tr th:only-of-type {\n",
       "        vertical-align: middle;\n",
       "    }\n",
       "\n",
       "    .dataframe tbody tr th {\n",
       "        vertical-align: top;\n",
       "    }\n",
       "\n",
       "    .dataframe thead th {\n",
       "        text-align: right;\n",
       "    }\n",
       "</style>\n",
       "<table border=\"1\" class=\"dataframe\">\n",
       "  <thead>\n",
       "    <tr style=\"text-align: right;\">\n",
       "      <th></th>\n",
       "      <th>0</th>\n",
       "      <th>1</th>\n",
       "      <th>2</th>\n",
       "      <th>3</th>\n",
       "      <th>4</th>\n",
       "      <th>5</th>\n",
       "      <th>6</th>\n",
       "      <th>7</th>\n",
       "      <th>8</th>\n",
       "      <th>9</th>\n",
       "      <th>...</th>\n",
       "      <th>91</th>\n",
       "      <th>92</th>\n",
       "      <th>93</th>\n",
       "      <th>94</th>\n",
       "      <th>95</th>\n",
       "      <th>96</th>\n",
       "      <th>97</th>\n",
       "      <th>98</th>\n",
       "      <th>99</th>\n",
       "      <th>100</th>\n",
       "    </tr>\n",
       "  </thead>\n",
       "  <tbody>\n",
       "    <tr>\n",
       "      <th>0</th>\n",
       "      <td>**PAD**</td>\n",
       "      <td>0.000000</td>\n",
       "      <td>0.000000</td>\n",
       "      <td>0.000000</td>\n",
       "      <td>0.000000</td>\n",
       "      <td>0.000000</td>\n",
       "      <td>0.000000</td>\n",
       "      <td>0.000000</td>\n",
       "      <td>0.000000</td>\n",
       "      <td>0.000000</td>\n",
       "      <td>...</td>\n",
       "      <td>0.000000</td>\n",
       "      <td>0.000000</td>\n",
       "      <td>0.000000</td>\n",
       "      <td>0.000000</td>\n",
       "      <td>0.000000</td>\n",
       "      <td>0.000000</td>\n",
       "      <td>0.000000</td>\n",
       "      <td>0.000000</td>\n",
       "      <td>0.000000</td>\n",
       "      <td>0.000000</td>\n",
       "    </tr>\n",
       "    <tr>\n",
       "      <th>1</th>\n",
       "      <td>000cc</td>\n",
       "      <td>0.031379</td>\n",
       "      <td>-0.016026</td>\n",
       "      <td>-0.007015</td>\n",
       "      <td>0.026159</td>\n",
       "      <td>-0.000628</td>\n",
       "      <td>-0.029135</td>\n",
       "      <td>0.037267</td>\n",
       "      <td>0.026875</td>\n",
       "      <td>0.040712</td>\n",
       "      <td>...</td>\n",
       "      <td>-0.027516</td>\n",
       "      <td>0.080226</td>\n",
       "      <td>0.007671</td>\n",
       "      <td>-0.039936</td>\n",
       "      <td>0.010744</td>\n",
       "      <td>-0.006892</td>\n",
       "      <td>-0.071733</td>\n",
       "      <td>0.034608</td>\n",
       "      <td>-0.026505</td>\n",
       "      <td>0.020716</td>\n",
       "    </tr>\n",
       "    <tr>\n",
       "      <th>2</th>\n",
       "      <td>000mcg</td>\n",
       "      <td>0.045996</td>\n",
       "      <td>-0.052848</td>\n",
       "      <td>-0.044482</td>\n",
       "      <td>0.045182</td>\n",
       "      <td>0.022560</td>\n",
       "      <td>0.037396</td>\n",
       "      <td>0.026134</td>\n",
       "      <td>0.047924</td>\n",
       "      <td>0.002321</td>\n",
       "      <td>...</td>\n",
       "      <td>-0.020273</td>\n",
       "      <td>0.021479</td>\n",
       "      <td>0.037988</td>\n",
       "      <td>0.075513</td>\n",
       "      <td>0.104129</td>\n",
       "      <td>-0.045498</td>\n",
       "      <td>0.007735</td>\n",
       "      <td>0.000838</td>\n",
       "      <td>0.001557</td>\n",
       "      <td>-0.024968</td>\n",
       "    </tr>\n",
       "    <tr>\n",
       "      <th>3</th>\n",
       "      <td>000mg</td>\n",
       "      <td>0.250123</td>\n",
       "      <td>0.174383</td>\n",
       "      <td>-0.269695</td>\n",
       "      <td>0.056581</td>\n",
       "      <td>-0.065816</td>\n",
       "      <td>-0.124786</td>\n",
       "      <td>-0.088935</td>\n",
       "      <td>-0.279940</td>\n",
       "      <td>0.048762</td>\n",
       "      <td>...</td>\n",
       "      <td>0.206152</td>\n",
       "      <td>0.156756</td>\n",
       "      <td>-0.059231</td>\n",
       "      <td>-0.166126</td>\n",
       "      <td>-0.129042</td>\n",
       "      <td>-0.454636</td>\n",
       "      <td>-0.695260</td>\n",
       "      <td>0.101938</td>\n",
       "      <td>0.059170</td>\n",
       "      <td>-0.231901</td>\n",
       "    </tr>\n",
       "    <tr>\n",
       "      <th>4</th>\n",
       "      <td>000s</td>\n",
       "      <td>0.061875</td>\n",
       "      <td>-0.044950</td>\n",
       "      <td>-0.132188</td>\n",
       "      <td>0.054579</td>\n",
       "      <td>-0.045981</td>\n",
       "      <td>-0.082330</td>\n",
       "      <td>0.084938</td>\n",
       "      <td>0.005535</td>\n",
       "      <td>0.129054</td>\n",
       "      <td>...</td>\n",
       "      <td>-0.289205</td>\n",
       "      <td>0.187125</td>\n",
       "      <td>-0.239062</td>\n",
       "      <td>-0.010229</td>\n",
       "      <td>-0.063107</td>\n",
       "      <td>0.296233</td>\n",
       "      <td>-0.024894</td>\n",
       "      <td>-0.179583</td>\n",
       "      <td>-0.183988</td>\n",
       "      <td>-0.052326</td>\n",
       "    </tr>\n",
       "  </tbody>\n",
       "</table>\n",
       "<p>5 rows × 101 columns</p>\n",
       "</div>"
      ],
      "text/plain": [
       "       0         1         2         3         4         5         6    \\\n",
       "0  **PAD**  0.000000  0.000000  0.000000  0.000000  0.000000  0.000000   \n",
       "1    000cc  0.031379 -0.016026 -0.007015  0.026159 -0.000628 -0.029135   \n",
       "2   000mcg  0.045996 -0.052848 -0.044482  0.045182  0.022560  0.037396   \n",
       "3    000mg  0.250123  0.174383 -0.269695  0.056581 -0.065816 -0.124786   \n",
       "4     000s  0.061875 -0.044950 -0.132188  0.054579 -0.045981 -0.082330   \n",
       "\n",
       "        7         8         9    ...       91        92        93        94   \\\n",
       "0  0.000000  0.000000  0.000000  ...  0.000000  0.000000  0.000000  0.000000   \n",
       "1  0.037267  0.026875  0.040712  ... -0.027516  0.080226  0.007671 -0.039936   \n",
       "2  0.026134  0.047924  0.002321  ... -0.020273  0.021479  0.037988  0.075513   \n",
       "3 -0.088935 -0.279940  0.048762  ...  0.206152  0.156756 -0.059231 -0.166126   \n",
       "4  0.084938  0.005535  0.129054  ... -0.289205  0.187125 -0.239062 -0.010229   \n",
       "\n",
       "        95        96        97        98        99        100  \n",
       "0  0.000000  0.000000  0.000000  0.000000  0.000000  0.000000  \n",
       "1  0.010744 -0.006892 -0.071733  0.034608 -0.026505  0.020716  \n",
       "2  0.104129 -0.045498  0.007735  0.000838  0.001557 -0.024968  \n",
       "3 -0.129042 -0.454636 -0.695260  0.101938  0.059170 -0.231901  \n",
       "4 -0.063107  0.296233 -0.024894 -0.179583 -0.183988 -0.052326  \n",
       "\n",
       "[5 rows x 101 columns]"
      ]
     },
     "execution_count": 5,
     "metadata": {},
     "output_type": "execute_result"
    }
   ],
   "source": [
    "embeddings.head()"
   ]
  },
  {
   "cell_type": "markdown",
   "metadata": {},
   "source": [
    "#### Reformatting embeddings so that it can be used by torch function nn.Embedding.from_pretrained"
   ]
  },
  {
   "cell_type": "code",
   "execution_count": 6,
   "metadata": {},
   "outputs": [],
   "source": [
    "embeddings.columns = ['WORD'] + [str(i) for i in range(100)]"
   ]
  },
  {
   "cell_type": "code",
   "execution_count": 7,
   "metadata": {},
   "outputs": [],
   "source": [
    "embeddings.index = embeddings['WORD']\n",
    "embeddings = embeddings.drop('WORD', axis=1)"
   ]
  },
  {
   "cell_type": "code",
   "execution_count": 8,
   "metadata": {},
   "outputs": [],
   "source": [
    "weights = torch.tensor(embeddings.values) # formerly syn0,"
   ]
  },
  {
   "cell_type": "markdown",
   "metadata": {},
   "source": [
    "#### Add multi-hot encoding for labels - ensure consistent encoding for Train / Test\n",
    "Current implementation fails on some small subsets if there are not all inputs represented."
   ]
  },
  {
   "cell_type": "code",
   "execution_count": 9,
   "metadata": {},
   "outputs": [],
   "source": [
    "def create_labels(Y, labels_dict = None, create = False):\n",
    "\n",
    "    if create:\n",
    "        labels_dict = {}\n",
    "        j = 0\n",
    "        for y in Y:\n",
    "            labels = str(y).split(\";\")\n",
    "            for label in labels:\n",
    "                if label not in labels_dict:\n",
    "                    labels_dict[label] = j\n",
    "                    j+=1\n",
    "                \n",
    "    y_tensor = torch.zeros([len(Y), len(labels_dict)])\n",
    "    \n",
    "    for _, y in enumerate(Y):\n",
    "        labels = str(y).split(\";\")\n",
    "        for label in labels:\n",
    "            idx = labels_dict[label]\n",
    "            y_tensor[_, idx] = 1\n",
    "    return y_tensor, labels_dict\n",
    "            "
   ]
  },
  {
   "cell_type": "code",
   "execution_count": 10,
   "metadata": {},
   "outputs": [],
   "source": [
    "Y_train,labels_dict_ = create_labels(notes_train.LABELS, None, True)\n",
    "Y_test, labels_dict_check = create_labels(notes_test.LABELS,labels_dict_)"
   ]
  },
  {
   "cell_type": "markdown",
   "metadata": {},
   "source": [
    "#### Create word-to-index mapping for assigning embeddings"
   ]
  },
  {
   "cell_type": "code",
   "execution_count": 11,
   "metadata": {},
   "outputs": [],
   "source": [
    "word_to_ids = {}\n",
    "for i, word in enumerate(embeddings.index):\n",
    "    word_to_ids[word] = i"
   ]
  },
  {
   "cell_type": "markdown",
   "metadata": {},
   "source": [
    "#### Max length - helper function to get correct dimension"
   ]
  },
  {
   "cell_type": "code",
   "execution_count": 12,
   "metadata": {},
   "outputs": [],
   "source": [
    "def get_max_length(X_):\n",
    "    X = X_.TEXT\n",
    "    j = 0\n",
    "    not_found_words = {}\n",
    "    max_length = 0\n",
    "    for x in X:\n",
    "        words = x.split(' ')\n",
    "\n",
    "        j = 0\n",
    "        for word in words:\n",
    "#            if word in word_to_ids:\n",
    "            j+=1\n",
    "        if j > max_length:\n",
    "            max_length = j\n",
    "    return max_length\n",
    "    "
   ]
  },
  {
   "cell_type": "code",
   "execution_count": 13,
   "metadata": {},
   "outputs": [],
   "source": [
    "max_length = max(get_max_length(notes_train),get_max_length(notes_test))"
   ]
  },
  {
   "cell_type": "code",
   "execution_count": 14,
   "metadata": {},
   "outputs": [
    {
     "data": {
      "text/plain": [
       "6120"
      ]
     },
     "execution_count": 14,
     "metadata": {},
     "output_type": "execute_result"
    }
   ],
   "source": [
    "max_length"
   ]
  },
  {
   "cell_type": "code",
   "execution_count": 15,
   "metadata": {},
   "outputs": [
    {
     "data": {
      "text/plain": [
       "6120"
      ]
     },
     "execution_count": 15,
     "metadata": {},
     "output_type": "execute_result"
    }
   ],
   "source": [
    "get_max_length(notes_train)"
   ]
  },
  {
   "cell_type": "code",
   "execution_count": 16,
   "metadata": {},
   "outputs": [
    {
     "data": {
      "text/plain": [
       "5630"
      ]
     },
     "execution_count": 16,
     "metadata": {},
     "output_type": "execute_result"
    }
   ],
   "source": [
    "get_max_length(notes_test)"
   ]
  },
  {
   "cell_type": "markdown",
   "metadata": {},
   "source": [
    "#### Transform text to index matrix"
   ]
  },
  {
   "cell_type": "code",
   "execution_count": 17,
   "metadata": {},
   "outputs": [],
   "source": [
    "def length_(row_):\n",
    "    return len(row_['TEXT'].split(' '))\n",
    "\n"
   ]
  },
  {
   "cell_type": "code",
   "execution_count": 18,
   "metadata": {},
   "outputs": [],
   "source": [
    "notes_train['length'] = notes_train.apply(length_, axis=1)"
   ]
  },
  {
   "cell_type": "code",
   "execution_count": 19,
   "metadata": {},
   "outputs": [
    {
     "data": {
      "text/plain": [
       "array([[<matplotlib.axes._subplots.AxesSubplot object at 0x7fb0636f3250>]],\n",
       "      dtype=object)"
      ]
     },
     "execution_count": 19,
     "metadata": {},
     "output_type": "execute_result"
    },
    {
     "data": {
      "image/png": "[encoded data removed]",
      "text/plain": [
       "<Figure size 432x288 with 1 Axes>"
      ]
     },
     "metadata": {
      "needs_background": "light"
     },
     "output_type": "display_data"
    }
   ],
   "source": [
    "notes_train.hist(column='length',bins=25)"
   ]
  },
  {
   "cell_type": "code",
   "execution_count": 20,
   "metadata": {},
   "outputs": [],
   "source": [
    "notes_test['length'] = notes_test.apply(length_, axis=1)"
   ]
  },
  {
   "cell_type": "code",
   "execution_count": 21,
   "metadata": {},
   "outputs": [
    {
     "data": {
      "text/plain": [
       "array([[<matplotlib.axes._subplots.AxesSubplot object at 0x7fb063802490>]],\n",
       "      dtype=object)"
      ]
     },
     "execution_count": 21,
     "metadata": {},
     "output_type": "execute_result"
    },
    {
     "data": {
      "image/png": "[encoded data removed]",
      "text/plain": [
       "<Figure size 432x288 with 1 Axes>"
      ]
     },
     "metadata": {
      "needs_background": "light"
     },
     "output_type": "display_data"
    }
   ],
   "source": [
    "notes_test.hist(column='length',bins=25)"
   ]
  },
  {
   "cell_type": "code",
   "execution_count": 22,
   "metadata": {},
   "outputs": [],
   "source": [
    "def create_index_tensor(X_, max_length, word_to_ids):\n",
    "    index_tensor = torch.zeros([X_.shape[0], max_length])\n",
    "    \n",
    "    for i, row in enumerate(X_):\n",
    "        words = row.split(' ')[:max_length]\n",
    "        for j, word in enumerate(words):\n",
    "            if word in word_to_ids:\n",
    "                index_tensor[i,j] = word_to_ids[word]\n",
    "    return index_tensor\n",
    "                \n",
    "    \n",
    "    "
   ]
  },
  {
   "cell_type": "code",
   "execution_count": 23,
   "metadata": {},
   "outputs": [],
   "source": [
    "#index_tensor_train = create_index_tensor(notes_train.TEXT, 4000, word_to_ids)\n",
    "#index_tensor_test =  create_index_tensor(notes_test.TEXT, 4000, word_to_ids)"
   ]
  },
  {
   "cell_type": "code",
   "execution_count": 24,
   "metadata": {},
   "outputs": [],
   "source": [
    "index_tensor_train = create_index_tensor(notes_train.TEXT, max_length, word_to_ids)\n",
    "index_tensor_test =  create_index_tensor(notes_test.TEXT, max_length, word_to_ids)"
   ]
  },
  {
   "cell_type": "code",
   "execution_count": 25,
   "metadata": {},
   "outputs": [
    {
     "data": {
      "text/plain": [
       "tensor([[ 4406., 14227., 15751.,  ...,     0.,     0.,     0.],\n",
       "        [ 4406., 14227., 15751.,  ...,     0.,     0.,     0.],\n",
       "        [ 4406., 14227., 15751.,  ...,     0.,     0.,     0.],\n",
       "        ...,\n",
       "        [ 4406., 14227., 15751.,  ...,     0.,     0.,     0.],\n",
       "        [ 4406., 14227., 15751.,  ...,     0.,     0.,     0.],\n",
       "        [ 4406., 14227., 15751.,  ...,     0.,     0.,     0.]])"
      ]
     },
     "execution_count": 25,
     "metadata": {},
     "output_type": "execute_result"
    }
   ],
   "source": [
    "index_tensor_train"
   ]
  },
  {
   "cell_type": "markdown",
   "metadata": {},
   "source": [
    "#### Similar steps as in HLAN paper - word encoder (first part). Splitting of notes into sentences."
   ]
  },
  {
   "cell_type": "code",
   "execution_count": 26,
   "metadata": {},
   "outputs": [],
   "source": [
    "embeds = nn.Embedding.from_pretrained(weights)\n"
   ]
  },
  {
   "cell_type": "code",
   "execution_count": 27,
   "metadata": {},
   "outputs": [],
   "source": [
    "def split_embed_reshape(X_indices,embeddings, chunk_size, Y):\n",
    "    # split\n",
    "    \n",
    "    x_tensor = []\n",
    "    y_tensor = []\n",
    "    max_l = 0\n",
    "    \n",
    "    for _, row in enumerate(X_indices):\n",
    "        row_chunks = list(torch.split(row, chunk_size))\n",
    "        if max_l < len(row_chunks):\n",
    "            max_l = len(row_chunks)\n",
    "            max_index = _\n",
    "        all_zero_index = []\n",
    "        non_zero_counter = 0\n",
    "        for i, row_chunk in enumerate(row_chunks):\n",
    "            if torch.all(row_chunk==0.0):\n",
    "                all_zero_index.append(i)\n",
    "            else:\n",
    "                all_zero_index.append(0)\n",
    "                non_zero_counter += 1\n",
    "        if len(row_chunk) != chunk_size:\n",
    "            row_chunks[i] = torch.cat((row_chunk, torch.zeros(chunk_size-len(row_chunk))))\n",
    "         \n",
    "        if non_zero_counter == 0:\n",
    "            print(\"non_zero_counter is 0\")\n",
    "            y = torch.vstack([Y[_]]* 1)\n",
    "        else:\n",
    "            y = torch.vstack([Y[_]]* non_zero_counter)\n",
    "            \n",
    "            \n",
    "        for idx in sorted(all_zero_index, reverse = True):\n",
    "            if idx != 0:\n",
    "                del row_chunks[idx]\n",
    "         \n",
    "        # embed\n",
    "        embedding_vectors =[]\n",
    "        for row_chunk in row_chunks:\n",
    "            #print(row_chunk.to(torch.long))\n",
    "            embedding_vectors.append(embeddings(row_chunk.to(torch.long)))\n",
    "        x_embeddings = torch.vstack(embedding_vectors)\n",
    "        x_embeddings = torch.reshape(x_embeddings, (len(row_chunks) ,chunk_size,  100))\n",
    "        x_tensor.append(x_embeddings)\n",
    "        \n",
    "        y_tensor.append(y)\n",
    "        \n",
    "    return torch.vstack(x_tensor).to(torch.double),torch.vstack(y_tensor).to(torch.double), max_l, max_index\n",
    "        \n",
    "    "
   ]
  },
  {
   "cell_type": "markdown",
   "metadata": {},
   "source": [
    "#### Create test and train data"
   ]
  },
  {
   "cell_type": "code",
   "execution_count": 28,
   "metadata": {},
   "outputs": [],
   "source": [
    "X_train, Y_train, ml, mi = split_embed_reshape(index_tensor_train, embeds, 50, Y_train )"
   ]
  },
  {
   "cell_type": "code",
   "execution_count": 29,
   "metadata": {},
   "outputs": [],
   "source": [
    "X_test, Y_test, ml, mi  = split_embed_reshape(index_tensor_test, embeds, 50, Y_test)"
   ]
  },
  {
   "cell_type": "markdown",
   "metadata": {},
   "source": [
    "### Mine architecture\n",
    "\n",
    "Hierarchical structure should be is as follows:¶\n",
    "1. Word Encoder - Bi-Directional GRU, preceeded by procedding shown above.\n",
    "2. Word-level Attention - attention - detailed comments are in the attention_word_level_ method below.\n",
    "3. Sentence Encoder - Bi-Directional GRU, \n",
    "4. Sentence-level Attention - detailed comments are in the attention_sentence_level_ method below.\n",
    "5. Linear classifier.\n",
    "\n",
    "The original paper shows the architecture as follows:\n",
    "\n",
    "\n",
    "![image](HLAN-architecture.png \"Title\")"
   ]
  },
  {
   "cell_type": "code",
   "execution_count": 30,
   "metadata": {},
   "outputs": [],
   "source": [
    "class HAN(nn.Module):\n",
    "    \n",
    "    def __init__(self, chunk_size = 50, embedding_dim=100, num_classes = 50, sentence_dim = 10):\n",
    "        super().__init__()\n",
    "\n",
    "        self.rnn_naive = nn.GRU(embedding_dim, embedding_dim, batch_first=True)\n",
    "\n",
    "        self.gru_word_level = nn.GRU(embedding_dim, embedding_dim, 1, batch_first=True,bidirectional=False)\n",
    "        self.gru_sentence_level = nn.GRU(sentence_dim, sentence_dim, 1, batch_first=True,bidirectional=False)\n",
    "\n",
    "    \n",
    "        self.sigmoid = nn.Sigmoid()\n",
    "        \n",
    "        self.num_classes = num_classes\n",
    "        self.embedding_dim = embedding_dim\n",
    "        self.chunk_size = chunk_size\n",
    "        self.sentence_dim = sentence_dim\n",
    "        \n",
    "        \n",
    "        \n",
    "        self.hidden_size = 10\n",
    "        self.softmax_logit = nn.Softmax(dim=1)\n",
    "        \n",
    "        self.context_word_att = nn.Linear(2* self.embedding_dim, 2*self.embedding_dim)\n",
    "        self.context_sentence_att = nn.Linear(2* self.sentence_dim, 2*self.sentence_dim)\n",
    "        self.fc = nn.Linear(2*self.sentence_dim, self.num_classes)\n",
    "        self.fc_naive =  nn.Linear(embedding_dim*2, num_classes)\n",
    "        \n",
    "        \n",
    "    def gru_backward_word_level_(self, x):\n",
    "        h_t_backward_list = []\n",
    "        for _, row in enumerate(x):\n",
    "            embedded_words_splitted = list(torch.split(row, self.chunk_size))\n",
    "            embedded_words_squeeze = [torch.squeeze(x, axis=1) for x in embedded_words_splitted]\n",
    "            embedded_words_squeeze.reverse()\n",
    "            h_t = torch.ones_like(embedded_words_squeeze[0])\n",
    "            h_t = torch.unsqueeze(h_t, 0)\n",
    "\n",
    "            \n",
    "            temp_list = []\n",
    "\n",
    "\n",
    "            for time_step, Xt in enumerate(embedded_words_squeeze):\n",
    "                Xt = torch.unsqueeze(Xt, 0)\n",
    "                Xt = torch.reshape(h_t, (Xt.shape[1], Xt.shape[0],Xt.shape[2] ))\n",
    "                output, h_t = self.gru_word_level(Xt.float(), h_t.float())\n",
    "                temp_list.append(torch.squeeze(h_t, 0))\n",
    "            temp_list.reverse()\n",
    "            h_t_backward_list.extend(temp_list)\n",
    "        return h_t_backward_list\n",
    "    \n",
    "    def gru_forward_word_level_(self, x):\n",
    "        h_t_forward_list = []\n",
    "        for _, row in enumerate(x):\n",
    "            embedded_words_splitted = list(torch.split(row, self.chunk_size))\n",
    "            embedded_words_squeeze = [torch.squeeze(x, axis=1) for x in embedded_words_splitted]\n",
    "            \n",
    "            h_t = torch.ones_like(embedded_words_squeeze[0])\n",
    "            h_t = torch.unsqueeze(h_t, 0)\n",
    "            \n",
    "            temp_list = []\n",
    "\n",
    "            for time_step, Xt in enumerate(embedded_words_squeeze):\n",
    "                Xt = torch.unsqueeze(Xt, 0)\n",
    "                Xt = torch.reshape(h_t, (Xt.shape[1], Xt.shape[0],Xt.shape[2] ))\n",
    "                output, h_t = self.gru_word_level(Xt.float(), h_t.float())\n",
    "                temp_list.append(torch.squeeze(h_t, 0))\n",
    "            temp_list.reverse()\n",
    "            h_t_forward_list.extend(temp_list)    \n",
    "        return h_t_forward_list\n",
    "\n",
    "    def gru_forward_sentence_level_(self, x):\n",
    "        h_t_forward_list = []\n",
    "        for _, row in enumerate(x):\n",
    "            sentence_representation_splitted  = list(torch.split(row, 200))\n",
    "            sentence_representation_squeeze = sentence_representation_splitted#[torch.squeeze(x, axis=1) for x in sentence_representation_splitted ]\n",
    "            h_t = torch.ones_like(sentence_representation_squeeze[0])\n",
    "            h_t = torch.unsqueeze(h_t, 0)\n",
    "            h_t = torch.ones([1, 200, self.sentence_dim])\n",
    "            temp_list = []\n",
    "\n",
    "            for time_step, Xt in enumerate(sentence_representation_squeeze):\n",
    "\n",
    "                Xt = torch.unsqueeze(Xt, 1)\n",
    "                Xt = torch.unsqueeze(Xt, 2)\n",
    "                \n",
    "                Xt_extended = Xt.repeat(1, 1, self.sentence_dim)\n",
    "                Xt = Xt_extended\n",
    "                    \n",
    "                output, h_t = self.gru_sentence_level(Xt.float(), h_t.float())\n",
    "                temp_list.append(torch.squeeze(h_t, 0))\n",
    "            #temp_list.reverse()\n",
    "            h_t_forward_list.extend(temp_list)    \n",
    "        return h_t_forward_list\n",
    "        \n",
    "    def gru_backward_sentence_level_(self, x):\n",
    "        h_t_forward_list = []\n",
    "        for _, row in enumerate(x):\n",
    "            sentence_representation_splitted  = list(torch.split(row, 200))\n",
    "            sentence_representation_squeeze = sentence_representation_splitted#[torch.squeeze(x, axis=1) for x in sentence_representation_splitted ]\n",
    "            \n",
    "            h_t = torch.ones_like(sentence_representation_squeeze[0])\n",
    "            h_t = torch.unsqueeze(h_t, 0)\n",
    "            h_t = torch.ones([1, 200, self.sentence_dim])\n",
    "            temp_list = []\n",
    "\n",
    "            for time_step, Xt in enumerate(sentence_representation_squeeze):\n",
    "                Xt = torch.unsqueeze(Xt, 1)\n",
    "                Xt = torch.unsqueeze(Xt, 2)\n",
    "                \n",
    "                Xt_extended = Xt.repeat(1, 1, self.sentence_dim)\n",
    "                \n",
    "                Xt = Xt_extended\n",
    " \n",
    "                output, h_t = self.gru_sentence_level(Xt.float(), h_t.float())\n",
    "                temp_list.append(torch.squeeze(h_t, 0))\n",
    "            temp_list.reverse()\n",
    "            h_t_forward_list.extend(temp_list)    \n",
    "        return h_t_forward_list\n",
    "            \n",
    "        \n",
    "    def attention_word_level_(self, hidden_state):\n",
    "        hidden_state_ = torch.stack(hidden_state, axis=0)\n",
    "        # Attention:\n",
    "        # 1. Multiply each element of a sentence by matrix (using feed-forward network)\n",
    "        # 2. Pass through tanh (in paper)\n",
    "        # 3. Calculate similarity of the input (hidden state) and output of tanh (transformed context)\n",
    "        # 4. Sum by last dimension (will remain batch x lengt of sentence) and get max by penultimate dimension (label) \n",
    "        # 1.\n",
    "        new_context = self.context_word_att(hidden_state_)\n",
    "        # 2.\n",
    "        tan_output_word = torch.tanh(new_context)\n",
    "        # 3. \n",
    "        hidden_state_context_similiarity = hidden_state_.mul(tan_output_word)\n",
    "        \n",
    "        # 4. \n",
    "        attention_logits = torch.sum(hidden_state_context_similiarity, axis=2) \n",
    "        attention_logits_max = torch.max(attention_logits, dim=1, keepdim=True)\n",
    "        attention_logits_max = attention_logits_max.values.repeat(1,attention_logits.shape[1])\n",
    "\n",
    "        p_attention = self.softmax_logit(attention_logits - attention_logits_max)\n",
    "\n",
    "        p_attention_expanded = torch.unsqueeze(p_attention, axis=2)\n",
    "\n",
    "        sentence_representation = torch.mul(p_attention_expanded, hidden_state_)\n",
    "\n",
    "        sentence_representation = torch.sum(sentence_representation, axis=1)                                     \n",
    "        return sentence_representation  \n",
    "\n",
    "    def attention_sentence_level_(self, hidden_state):\n",
    "        hidden_state_ = torch.stack(hidden_state, axis=0)\n",
    "        # Attention:\n",
    "        # 1. Multiply each element of a sentence by matrix (using feed-forward network)\n",
    "        # 2. Pass through tanh (in paper)\n",
    "        # 3. Calculate similarity of the input (hidden state) and output of tanh (transformed context)\n",
    "        # 4. Sum by last dimension (will remain batch x lengt of sentence) and get max by penultimate dimension (label) \n",
    "        # 1.\n",
    "        new_context = self.context_sentence_att(hidden_state_)\n",
    "        # 2.\n",
    "        tan_output_word = torch.tanh(new_context)\n",
    "        # 3. \n",
    "        hidden_state_context_similiarity = hidden_state_.mul(tan_output_word)\n",
    "        \n",
    "        # 4. \n",
    "        attention_logits = torch.sum(hidden_state_context_similiarity, axis=2) \n",
    "        attention_logits_max = torch.max(attention_logits, dim=1, keepdim=True)\n",
    "        attention_logits_max = attention_logits_max.values.repeat(1,attention_logits.shape[1])\n",
    "\n",
    "        p_attention = self.softmax_logit(attention_logits - attention_logits_max)\n",
    "\n",
    "        p_attention_expanded = torch.unsqueeze(p_attention, axis=2)\n",
    "\n",
    "        sentence_representation = torch.mul(p_attention_expanded, hidden_state_)\n",
    "\n",
    "        sentence_representation = torch.sum(sentence_representation, axis=1)                                     \n",
    "        return sentence_representation \n",
    "\n",
    "\n",
    "    \n",
    "    def forward(self, x):\n",
    "        # 1. Rest of Word Encoder\n",
    "        hidden_state_back = self.gru_backward_word_level_(x)\n",
    "        hidden_state_for = self.gru_forward_word_level_(x)\n",
    "\n",
    "        hidden_state_combined_gru = [torch.cat([h_forward, h_backward], axis=1) for h_forward, h_backward in\n",
    "                             zip(hidden_state_for, hidden_state_back)]\n",
    "        \n",
    "\n",
    "        \n",
    "        # 2.Word Attention\n",
    "        # for each sentence.\n",
    "\n",
    "        sentence_representation = self.attention_word_level_(hidden_state_combined_gru)\n",
    "        \n",
    "        # 3. Sentence-level GRU\n",
    "        hidden_state_forward_sentences = self.gru_forward_sentence_level_(sentence_representation)\n",
    "        hidden_state_backward_sentences = self.gru_backward_sentence_level_(sentence_representation)\n",
    "\n",
    "        \n",
    "        hidden_state_combined_gru = [torch.cat([h_forward, h_backward], axis=1) for h_forward, h_backward in\n",
    "                             zip(hidden_state_forward_sentences, hidden_state_backward_sentences)]\n",
    "        \n",
    "        # 4. Sentence-level attention\n",
    "        document_representation = self.attention_sentence_level_(hidden_state_combined_gru) \n",
    "        \n",
    "        # 5. Linear Classifier\n",
    "\n",
    "        logits = self.fc(document_representation)\n",
    "        \n",
    "        probs = self.sigmoid(logits)\n",
    "        \n",
    "        \n",
    "        \n",
    "        return probs.squeeze(dim=-1)\n",
    "    "
   ]
  },
  {
   "cell_type": "code",
   "execution_count": 31,
   "metadata": {},
   "outputs": [],
   "source": [
    "model = HAN()"
   ]
  },
  {
   "cell_type": "code",
   "execution_count": 32,
   "metadata": {},
   "outputs": [
    {
     "data": {
      "text/plain": [
       "HAN(\n",
       "  (rnn_naive): GRU(100, 100, batch_first=True)\n",
       "  (gru_word_level): GRU(100, 100, batch_first=True)\n",
       "  (gru_sentence_level): GRU(10, 10, batch_first=True)\n",
       "  (sigmoid): Sigmoid()\n",
       "  (softmax_logit): Softmax(dim=1)\n",
       "  (context_word_att): Linear(in_features=200, out_features=200, bias=True)\n",
       "  (context_sentence_att): Linear(in_features=20, out_features=20, bias=True)\n",
       "  (fc): Linear(in_features=20, out_features=50, bias=True)\n",
       "  (fc_naive): Linear(in_features=200, out_features=50, bias=True)\n",
       ")"
      ]
     },
     "execution_count": 32,
     "metadata": {},
     "output_type": "execute_result"
    }
   ],
   "source": [
    "model.eval()\n",
    "\n"
   ]
  },
  {
   "cell_type": "markdown",
   "metadata": {},
   "source": [
    "### training"
   ]
  },
  {
   "cell_type": "code",
   "execution_count": 33,
   "metadata": {},
   "outputs": [
    {
     "name": "stdout",
     "output_type": "stream",
     "text": [
      "Epoch number: 0\n",
      "This epoch took 2.0 minutes and 37.268986225128174 seconds.\n",
      "Epoch number: 1\n",
      "This epoch took 2.0 minutes and 46.422897815704346 seconds.\n",
      "Epoch number: 2\n",
      "This epoch took 2.0 minutes and 37.632731199264526 seconds.\n",
      "Epoch number: 3\n",
      "This epoch took 2.0 minutes and 40.94078183174133 seconds.\n",
      "Epoch number: 4\n",
      "This epoch took 2.0 minutes and 39.99514079093933 seconds.\n",
      "Epoch number: 5\n",
      "This epoch took 2.0 minutes and 37.830681800842285 seconds.\n",
      "Epoch number: 6\n",
      "This epoch took 2.0 minutes and 38.94284272193909 seconds.\n",
      "Epoch number: 7\n",
      "This epoch took 2.0 minutes and 38.49711799621582 seconds.\n",
      "Epoch number: 8\n",
      "This epoch took 2.0 minutes and 38.148216009140015 seconds.\n",
      "Epoch number: 9\n",
      "This epoch took 2.0 minutes and 38.240350008010864 seconds.\n"
     ]
    }
   ],
   "source": [
    "BATCH_SIZE = 32\n",
    "EPOCHS = 10\n",
    "\n",
    "\n",
    "\n",
    "\n",
    "\n",
    "learning_rate = 1e-3\n",
    "optimizer = torch.optim.Adam(model.parameters(), lr=learning_rate)\n",
    "\n",
    "batch_losses = []\n",
    "criterion = nn.BCELoss()\n",
    "\n",
    "for epoch in range(EPOCHS):\n",
    "    print(\"Epoch number: {}\".format(epoch))\n",
    "    t0 = time()\n",
    "    for i in range(0, len(X_train), BATCH_SIZE):\n",
    "        x, y = X_train[i:i+BATCH_SIZE], Y_train[i:i+BATCH_SIZE]\n",
    "        #print(\"y\")\n",
    "        #print(y.shape) 32 x 50\n",
    "        optimizer.zero_grad()\n",
    "        y_hat = model(x.float())\n",
    "        loss = criterion(y_hat, y.type(torch.float))\n",
    "        batch_loss_value = loss.item()\n",
    "        loss.backward()\n",
    "        optimizer.step()\n",
    "\n",
    "        batch_losses.append(batch_loss_value)\n",
    "    t1 = time()\n",
    "    print(f\"This epoch took {(t1 - t0) // 60} minutes and {(t1 - t0) % 60} seconds.\")\n",
    "    '''y_hat = model(X_train.float())\n",
    "    pred = np.array(y_hat > 0.5, dtype=float)\n",
    "    auc= roc_auc_score(Y_train, y_hat.detach().numpy(), average='macro')\n",
    "    print(\"Training data AUC is {}\".format(auc))'''"
   ]
  },
  {
   "cell_type": "markdown",
   "metadata": {},
   "source": [
    "#### Test data"
   ]
  },
  {
   "cell_type": "code",
   "execution_count": 34,
   "metadata": {},
   "outputs": [
    {
     "name": "stdout",
     "output_type": "stream",
     "text": [
      "Testing data AUC is 0.49999719809470444\n"
     ]
    }
   ],
   "source": [
    "y_hat = model(X_test.float())\n",
    "pred = np.array(y_hat > 0.5, dtype=float)\n",
    "auc= roc_auc_score(Y_test, y_hat.detach().numpy(), average='macro')\n",
    "print(\"Testing data AUC is {}\".format(auc))"
   ]
  },
  {
   "cell_type": "markdown",
   "metadata": {},
   "source": [
    "#### Train data"
   ]
  },
  {
   "cell_type": "code",
   "execution_count": 35,
   "metadata": {},
   "outputs": [
    {
     "name": "stdout",
     "output_type": "stream",
     "text": [
      "Training data AUC is 0.5\n"
     ]
    }
   ],
   "source": [
    "y_hat = model(X_train.float())\n",
    "pred = np.array(y_hat > 0.5, dtype=float)\n",
    "auc= roc_auc_score(Y_train, y_hat.detach().numpy(), average='macro')\n",
    "print(\"Training data AUC is {}\".format(auc))"
   ]
  }
 ],
 "metadata": {
  "kernelspec": {
   "display_name": "Python 3",
   "language": "python",
   "name": "python3"
  },
  "language_info": {
   "codemirror_mode": {
    "name": "ipython",
    "version": 3
   },
   "file_extension": ".py",
   "mimetype": "text/x-python",
   "name": "python",
   "nbconvert_exporter": "python",
   "pygments_lexer": "ipython3",
   "version": "3.8.3"
  }
 },
 "nbformat": 4,
 "nbformat_minor": 2
}
